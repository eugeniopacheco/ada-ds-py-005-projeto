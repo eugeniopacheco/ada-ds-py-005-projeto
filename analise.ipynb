{
 "cells": [
  {
   "cell_type": "markdown",
   "id": "4d976e27",
   "metadata": {},
   "source": [
    "# Análise estatística do dataset \"World COVID-19 Data\"\n",
    "https://www.kaggle.com/datasets/abhishek14398/world-covid19-data\n",
    "\n",
    "Arquivos utilizados:\n",
    "- CONVENIENT_global_confirmed_cases.csv\n",
    "    - Primeira linha: lista de países/regiões\n",
    "    - Segunda linha: lista de províncias/estados para alguns países apenas\n",
    "    - Primeira coluna: datas em dias\n",
    "    - Colunas seguintes, quantidade de casos confirmados\n",
    "- CONVENIENT_global_deaths.csv\n",
    "    - Primeira linha: lista de países/regiões\n",
    "    - Segunda linha: lista de províncias/estados para alguns países apenas\n",
    "    - Primeira coluna: datas em dias\n",
    "    - Colunas seguintes, quantidade de casos de mortes\n",
    "- CONVENIENT_global_metadata.csv\n",
    "    - Primeira linha: header\n",
    "    - Primeira coluna: índice\n",
    "    - Segunda coluna: países/regiões\n",
    "    - Terceira coluna: províncias/estados\n",
    "    - Quarta coluna: latitude\n",
    "    - Quinta coluna: longitude"
   ]
  },
  {
   "cell_type": "code",
   "execution_count": null,
   "id": "324e8c2d",
   "metadata": {},
   "outputs": [],
   "source": [
    "# instalação de ffmpeg:\n",
    "# !pip install ffmpeg-python\n",
    "# from IPython.display import HTML\n",
    "# Necessita do ffmpeg, então optamos por não utilizar\n",
    "# Para utilizar o plotly com regressão linear, necessita instalar statsmodel\n",
    "# %pip install statsmodels\n",
    "# importando pacotes\n",
    "import os\n",
    "import warnings\n",
    "import numpy as np\n",
    "import pandas as pd\n",
    "import seaborn as sns\n",
    "import matplotlib.pyplot as plt\n",
    "import matplotlib.animation as animation\n",
    "import plotly.express as px\n",
    "import plotly.graph_objects as go\n",
    "\n",
    "# ignorar warnings (limpar notebook)\n",
    "warnings.filterwarnings('ignore')\n",
    "\n",
    "# constantes\n",
    "DATA_FOLDER = './data'\n",
    "\n",
    "CONFIRMED_CASES_DATA = 'CONVENIENT_global_confirmed_cases.csv'\n",
    "DEATH_CASES_DATA = 'CONVENIENT_global_deaths.csv'\n",
    "LOCATION_DATA = 'CONVENIENT_global_metadata.csv'"
   ]
  },
  {
   "cell_type": "code",
   "execution_count": null,
   "id": "cf49cd14",
   "metadata": {},
   "outputs": [],
   "source": [
    "# realizando a leitura dos dados\n",
    "# esses arquivos tem duas linhas de header, onde a primeira é o nome do país\n",
    "# a segunda é uma região do país, caso exista, senão, vazio (NaN)\n",
    "path_ = os.path.join(DATA_FOLDER, DEATH_CASES_DATA)\n",
    "death = pd.read_csv(path_, sep=',', header=[0,1])\n",
    "\n",
    "# agregando os valores para o mesmo país (somando)\n",
    "# dado que os países eram os nomes das colunas,\n",
    "# fazer transposição para poder agregar por nome do país\n",
    "death = death.T\n",
    "# reseta o index para que os index virem colunas\n",
    "death.reset_index(inplace=True)\n",
    "# modifica o nome das colunas para as datas\n",
    "death.columns = death.loc[0]\n",
    "# dropa os nomes das colunas usadas acima\n",
    "death.drop([0], axis=0, inplace=True)\n",
    "# dropa a coluna da província, dado que vamos agrupar posteriormente por país\n",
    "death.drop(['Province/State'], inplace=True, axis=1)\n",
    "# agrupa por país somando os valores de casos\n",
    "death = death.groupby(\"Country/Region\").sum()\n",
    "# faz a transposta novamente para retornar ao formato original\n",
    "death = death.T\n",
    "# joga os index como colunas\n",
    "death.reset_index(inplace=True)\n",
    "# renomeia a coluna 0 antigo índice para data\n",
    "death.rename(columns={0: 'data'}, inplace=True)\n",
    "# remove o nome das colunas que fica aparecendo em cima do novo index\n",
    "death.columns.names = ['']\n",
    "# transformando a coluna Data no tipo Data\n",
    "death.data = pd.to_datetime(death.data)\n",
    "\n",
    "# idem para confirmed\n",
    "path_ = os.path.join(DATA_FOLDER, CONFIRMED_CASES_DATA)\n",
    "confirmed = pd.read_csv(path_, sep=',', header=[0,1])\n",
    "confirmed = confirmed.T\n",
    "confirmed.reset_index(inplace=True)\n",
    "confirmed.columns = confirmed.loc[0]\n",
    "confirmed.drop([0], axis=0, inplace=True)\n",
    "confirmed.drop(['Province/State'], inplace=True, axis=1)\n",
    "confirmed = confirmed.groupby(\"Country/Region\").sum()\n",
    "confirmed = confirmed.T\n",
    "confirmed.reset_index(inplace=True)\n",
    "confirmed.rename(columns={0: 'data'}, inplace=True)\n",
    "confirmed.columns.names = ['']\n",
    "confirmed.data = pd.to_datetime(confirmed.data)\n",
    "\n",
    "# arquivo de latitude e longitude\n",
    "# primeira coluna de indice\n",
    "path_ = os.path.join(DATA_FOLDER, LOCATION_DATA)\n",
    "location = pd.read_csv(path_, sep=',', index_col=0)\n",
    "# no caso do location tem que criar uma nova coluna para match os nomes dos headers dos dfs death e confirmed\n",
    "#location[\"Region\"] = location[\"Country/Region\"].str.cat(location[\"Province/State\"], sep=\"_\", na_rep=\"\")\n",
    "# remover _ de células onde o Province/State era NaN\n",
    "#location[\"Region\"] = location[\"Region\"].str.removesuffix(\"_\")\n"
   ]
  },
  {
   "cell_type": "code",
   "execution_count": null,
   "id": "4985fee7",
   "metadata": {},
   "outputs": [],
   "source": [
    "death"
   ]
  },
  {
   "cell_type": "code",
   "execution_count": null,
   "id": "8e7dbeb4",
   "metadata": {},
   "outputs": [],
   "source": [
    "confirmed"
   ]
  },
  {
   "cell_type": "code",
   "execution_count": null,
   "id": "b57cbdf0",
   "metadata": {},
   "outputs": [],
   "source": [
    "location\n",
    "# embora haja muitos valores NaN, nao podemos remover as linhas com NaN, podemos substituir, mas nao sera necessario\n",
    "# pois sera feito posteriormente\n",
    "# checar qtd de NaN e qtd em fração de Nan"
   ]
  },
  {
   "cell_type": "code",
   "execution_count": null,
   "id": "0c1db077",
   "metadata": {},
   "outputs": [],
   "source": [
    "# checando valores nulos\n",
    "print(sum(death.isna().sum())) #não há valores nulos\n",
    "print(sum(confirmed.isna().sum())) #não há valores nulos\n",
    "print(location.isna().sum()) #há valores nulos"
   ]
  },
  {
   "cell_type": "code",
   "execution_count": null,
   "id": "bb7d0e57",
   "metadata": {},
   "outputs": [],
   "source": [
    "# verificando coluna a coluna o que são os valores nulos\n",
    "display(location[location['Lat'].isna()]) #dois países com regiões não utilizados\n",
    "display(location[location['Long'].isna()]) #dois países com regiões não utilizados\n",
    "location.dropna(subset=['Long', 'Lat'], inplace=True)\n",
    "# não usaremos a coluna Province/States\n",
    "location.drop('Province/State', axis=1, inplace=True)\n"
   ]
  },
  {
   "cell_type": "code",
   "execution_count": null,
   "id": "c6952984",
   "metadata": {},
   "outputs": [],
   "source": [
    "# agrupando location pelo pais:\n",
    "location = location.groupby('Country/Region').first()\n",
    "#location[location['Country/Region'] == \"Australia\"]"
   ]
  },
  {
   "cell_type": "code",
   "execution_count": null,
   "id": "95c56b11",
   "metadata": {},
   "outputs": [],
   "source": [
    "# confirmando se o shape de death e confirmed são iguais (mesma qtd de linhas e colunas)\n",
    "print(death.shape == confirmed.shape)\n",
    "# confirmando se as datas são iguais analisando uma a uma, somando os trues e comparando a quantidade de datas\n",
    "print(sum(death.data == confirmed.data) == death.shape[0])\n",
    "# confirmando se os nomes das colunas são iguais\n",
    "print(sum(death.columns == confirmed.columns) == (death.columns.size))\n",
    "# confirmando se o location[\"Regions\"] bate com os nomes das colunas dos outros dois dfs:\n",
    "print(sum(location.index == death.columns[1:]) == death.columns[1:].size)"
   ]
  },
  {
   "cell_type": "code",
   "execution_count": null,
   "id": "4c738f05",
   "metadata": {},
   "outputs": [],
   "source": [
    "# verificando informações do DF\n",
    "death.info"
   ]
  },
  {
   "cell_type": "code",
   "execution_count": null,
   "id": "6a1cafb6",
   "metadata": {},
   "outputs": [],
   "source": [
    "# analise estatistica\n",
    "stats_death = death.describe().T\n",
    "stats_death\n",
    "# possivelmente dados negativos são retratações de dados informados anteriormente"
   ]
  },
  {
   "cell_type": "code",
   "execution_count": null,
   "id": "7b720f99",
   "metadata": {},
   "outputs": [],
   "source": [
    "# análise estatística\n",
    "stats_confirmed = confirmed.describe().T\n",
    "stats_confirmed"
   ]
  },
  {
   "cell_type": "code",
   "execution_count": null,
   "id": "ec8baec6",
   "metadata": {},
   "outputs": [],
   "source": [
    "# eliminar variáveis de variância nula (abaixo de um limiar)\n",
    "stats_death['CV'] = abs(stats_death['std'] * 100 / stats_death['mean'])\n",
    "stats_confirmed['CV'] = abs(stats_confirmed['std'] * 100 / stats_confirmed['mean'])\n",
    "display(stats_death)\n",
    "display(stats_confirmed)\n",
    "# nao faz sentido este tratamento para este dataset."
   ]
  },
  {
   "cell_type": "code",
   "execution_count": null,
   "id": "2829b067",
   "metadata": {},
   "outputs": [],
   "source": [
    "# checando paises com numero de mortes menores que dois\n",
    "stats_death[stats_death['max'] < 2]"
   ]
  },
  {
   "cell_type": "code",
   "execution_count": null,
   "id": "8a8a020b",
   "metadata": {},
   "outputs": [],
   "source": [
    "# criando novo DF agrupando por ano e mes e somando os casos de mortes\n",
    "death_monthly = death.groupby([death.data.dt.year, death.data.dt.month])[death.columns[1:]].sum()\n",
    "# fazendo a soma cumulativa dos casos\n",
    "death_monthly = death_monthly.cumsum()\n",
    "# renomeando o indice\n",
    "death_monthly.index.rename(['ano', 'mes'], inplace=True)\n",
    "# resetando o indice para transformar em colunas do DF\n",
    "death_monthly.reset_index(inplace=True)\n",
    "# criando uma nova coluna de data unindo ano e mes e adicionando leading zero\n",
    "death_monthly[\"data\"] = death_monthly[\"ano\"].astype(str) + death_monthly[\"mes\"].astype(str).str.zfill(2)\n",
    "death_monthly"
   ]
  },
  {
   "cell_type": "code",
   "execution_count": null,
   "id": "b9e88048",
   "metadata": {},
   "outputs": [],
   "source": [
    "# idem para confirmed\n",
    "confirmed_monthly = confirmed.groupby([confirmed.data.dt.year, confirmed.data.dt.month])[confirmed.columns[1:]].sum()\n",
    "confirmed_monthly = confirmed_monthly.cumsum()\n",
    "confirmed_monthly.index.rename(['ano', 'mes'], inplace=True)\n",
    "confirmed_monthly.reset_index(inplace=True)\n",
    "confirmed_monthly[\"data\"] = confirmed_monthly[\"ano\"].astype(str) + confirmed_monthly[\"mes\"].astype(str).str.zfill(2)\n",
    "confirmed_monthly"
   ]
  },
  {
   "cell_type": "code",
   "execution_count": null,
   "id": "2214fd62",
   "metadata": {},
   "outputs": [],
   "source": [
    "%%time\n",
    "# criando novo dataframe com o formato apropriado para utilizar plotly.express.scatter_geo:\n",
    "# data - confirmed - pais - lat - lon\n",
    "# para utilizar com scatter_geo\n",
    "novo_df = pd.DataFrame(columns=['data', 'confirmed', 'death', 'pais', 'lat', 'lon'])\n",
    "# itera pelas colunas com nomes dos países\n",
    "for coluna in confirmed_monthly.columns[2:-1]:\n",
    "    # cria um dataframe temporário com a data e o país\n",
    "    temp = confirmed_monthly[['data', coluna]]\n",
    "    # cria a coluna de mortes buscando no dataframe das mortes\n",
    "    temp[\"death\"] = death_monthly[[coluna]]\n",
    "    temp['pais'] = temp.columns[1]\n",
    "    temp['lat'] = location.loc[coluna]['Lat']\n",
    "    temp['lon'] = location.loc[coluna]['Long']\n",
    "    temp.columns = ['data', 'confirmed', 'death', 'pais', 'lat', 'lon']\n",
    "    novo_df = pd.concat([novo_df, temp], ignore_index=True)\n",
    "novo_df"
   ]
  },
  {
   "cell_type": "code",
   "execution_count": null,
   "id": "5d9715f1",
   "metadata": {},
   "outputs": [],
   "source": [
    "# criando novo dataframe com o formato apropriado para utilizar plotly.express.scatter_geo:\n",
    "# data - confirmed - pais - lat - lon\n",
    "# para utilizar com scatter_geo\n",
    "# agora utilizando apply\n",
    "# mudando o index para utilizar a data\n",
    "confirmed_monthly.index = confirmed_monthly['data']\n",
    "# removendo colunas que não serão usadas no apply\n",
    "confirmed_monthly.drop(columns=['data', 'ano', 'mes'], inplace=True)"
   ]
  },
  {
   "cell_type": "code",
   "execution_count": null,
   "id": "34ee6d36",
   "metadata": {},
   "outputs": [],
   "source": [
    "# definindo novo dataframe resultado\n",
    "novo_df2 = [pd.DataFrame()]\n",
    "# definindo função para ser usado no apply\n",
    "def cria_df(coluna, df_externo):\n",
    "    temp = pd.DataFrame()\n",
    "    temp['data'] = coluna.index\n",
    "    temp['confirmed'] = coluna.values\n",
    "    temp['death'] = death_monthly[coluna.name].values\n",
    "    temp['pais'] = coluna.name\n",
    "    temp['lat'] = location.loc[coluna.name]['Lat']\n",
    "    temp['lon'] = location.loc[coluna.name]['Long']\n",
    "    df_externo[0] = pd.concat([df_externo[0], temp], ignore_index=True)\n",
    "    return coluna\n",
    "# por que precisa usar lista? Questão de referência, seria possível fazer sem lista?"
   ]
  },
  {
   "cell_type": "code",
   "execution_count": null,
   "id": "6bef7fae",
   "metadata": {},
   "outputs": [],
   "source": [
    "%%time\n",
    "# utilizando o apply\n",
    "confirmed_monthly.apply(cria_df, df_externo=novo_df2)\n",
    "novo_df2 = novo_df2[0]"
   ]
  },
  {
   "cell_type": "code",
   "execution_count": null,
   "id": "36aa8436",
   "metadata": {},
   "outputs": [],
   "source": [
    "# comparando os dataframes\n",
    "display(novo_df)\n",
    "print(\"=\"*20)\n",
    "display(novo_df2)"
   ]
  },
  {
   "cell_type": "code",
   "execution_count": null,
   "id": "0a77c5a4",
   "metadata": {},
   "outputs": [],
   "source": [
    "# checando se os dataframes resultantes são iguais:\n",
    "print((novo_df == novo_df2).sum())\n",
    "print(novo_df.shape)"
   ]
  },
  {
   "cell_type": "code",
   "execution_count": null,
   "id": "e5c094dc",
   "metadata": {},
   "outputs": [],
   "source": [
    "# plotando utilizando o plotly e scatter_geo\n",
    "fig = px.scatter_geo(\n",
    "    novo_df, # dataframe utilizado para plotar\n",
    "    locations=\"pais\", # campo utilizado na localização\n",
    "    locationmode='country names', # como location foi utilizado\n",
    "    color=\"confirmed\", # escala de cores\n",
    "    size=\"confirmed\", # tamanho dos círculos\n",
    "    hover_name=\"pais\", # informação a aparecer ao passar o mouse\n",
    "    range_color= [0, 50000000], # range de cores para o heatmap\n",
    "    projection=\"natural earth\", # projeção do globo\n",
    "    animation_frame=\"data\", # dado utilizado como eixo para animação\n",
    "    color_continuous_scale=\"portland\",\n",
    "    opacity=0.7,\n",
    "    title='Casos confirmados de COVID-19 por país', # título\n",
    "    width=1000,\n",
    "    height=500\n",
    "    )\n",
    "fig.update_geos(visible=True, resolution=50, scope=\"world\", showcountries=True, countrycolor=\"gray\")\n",
    "fig.show()"
   ]
  },
  {
   "cell_type": "code",
   "execution_count": null,
   "id": "f84b0230",
   "metadata": {},
   "outputs": [],
   "source": [
    "fig = px.scatter_geo(\n",
    "    novo_df,\n",
    "    locations=\"pais\",\n",
    "    locationmode='country names',\n",
    "    color=\"death\",\n",
    "    size=\"death\",\n",
    "    hover_name=\"pais\",\n",
    "    range_color= [0, 500000],\n",
    "    projection=\"natural earth\",\n",
    "    animation_frame=\"data\",\n",
    "    color_continuous_scale=\"portland\",\n",
    "    opacity=0.7,\n",
    "    title='Mortes de COVID-19 por país',\n",
    "    width=1000,\n",
    "    height=500\n",
    "    )\n",
    "fig.update_geos(visible=True, resolution=50, scope=\"world\", showcountries=True, countrycolor=\"gray\")\n",
    "fig.show()"
   ]
  },
  {
   "cell_type": "code",
   "execution_count": null,
   "id": "b9ee3b2e",
   "metadata": {},
   "outputs": [],
   "source": [
    "# plotando grafico de linhas com os valores acumulados por pais\n",
    "fig = px.line(novo_df, x=\"data\", y=\"confirmed\", color='pais', width=1000, height=500)\n",
    "fig.show()"
   ]
  },
  {
   "cell_type": "code",
   "execution_count": null,
   "id": "e961e172",
   "metadata": {},
   "outputs": [],
   "source": [
    "# plotando grafico de linhas com os valores acumulados por pais\n",
    "fig = px.line(novo_df, x=\"data\", y=\"death\", color='pais', width=1000, height=500)\n",
    "fig.show()"
   ]
  },
  {
   "cell_type": "code",
   "execution_count": null,
   "id": "3b181a56",
   "metadata": {},
   "outputs": [],
   "source": [
    "# Pergunta: Qual o máximo de casos confirmados diariamente de covid? Qual o país?\n",
    "#            e para mortes?\n",
    "print(confirmed.max(numeric_only=True).sort_values(ascending=False)) #US foi o maior caso\n",
    "print(\"=\"*20)\n",
    "print(death.max(numeric_only=True).sort_values(ascending=False))\n",
    "\n"
   ]
  },
  {
   "cell_type": "code",
   "execution_count": null,
   "id": "bf1fbe97",
   "metadata": {},
   "outputs": [],
   "source": [
    "# Pergunta: Quando houve este pico máximo?\n",
    "print(confirmed[confirmed[\"US\"] == confirmed.max(numeric_only=True).max()][\"data\"]) #2022-01-10\n",
    "print(\"=\"*20)\n",
    "print(death[death[\"Chile\"] == death.max(numeric_only=True).max()][\"data\"]) #2022-03-21"
   ]
  },
  {
   "cell_type": "code",
   "execution_count": null,
   "id": "fcbe4941",
   "metadata": {},
   "outputs": [],
   "source": [
    "# Pergunta: Será que houve algum \"erro\" de informação onde acumulou muito caso em um dia?\n",
    "display(confirmed[(confirmed[\"data\"] > \"2022-01-05\") & (confirmed[\"data\"] < \"2022-01-15\")][[\"data\", \"US\"]])\n",
    "print(\"=\"*20)\n",
    "display(death[(death[\"data\"] > \"2022-03-16\") & (death[\"data\"] < \"2022-03-26\")][[\"data\", \"Chile\"]])\n"
   ]
  },
  {
   "cell_type": "code",
   "execution_count": null,
   "id": "ead989ec",
   "metadata": {},
   "outputs": [],
   "source": [
    "# Consideração: O dado do Chile aparenta estar com algum erro, o dado está destoante do restante\n",
    "fig = px.line(death, x=\"data\", y=\"Chile\", width=1000, height=500)\n",
    "fig.show()\n",
    "# Confirmando online, verificou-se que nesta data teve esta quantidade de mortes no Chile."
   ]
  },
  {
   "cell_type": "code",
   "execution_count": null,
   "id": "195e4648",
   "metadata": {},
   "outputs": [],
   "source": [
    "# Pergunta: Qual país teve a menor variância no número de casos confirmados e de morte?\n",
    "display(stats_confirmed[stats_confirmed[\"CV\"] == stats_confirmed[\"CV\"].min()])\n",
    "display(stats_death[stats_death[\"CV\"] == stats_death[\"CV\"].min()])"
   ]
  },
  {
   "cell_type": "code",
   "execution_count": null,
   "id": "066ce3d7",
   "metadata": {},
   "outputs": [],
   "source": [
    "# criando um novo dataframe concatenando as séries com a somatória das mortes e casos confirmados para cada país\n",
    "# utilize apply para criar uma nova coluna com a taxa de mortalidade\n",
    "mortalidade = pd.concat([death.sum(), confirmed.sum()], axis=1)\n",
    "mortalidade.reset_index(inplace=True)\n",
    "mortalidade.columns = ['country', 'death', 'confirmed']\n",
    "mortalidade['taxa_mortalidade'] = mortalidade.apply(lambda x: x['death']/x['confirmed'], axis=1)\n",
    "mortalidade"
   ]
  },
  {
   "cell_type": "code",
   "execution_count": null,
   "id": "9bae0c45",
   "metadata": {},
   "outputs": [],
   "source": [
    "# Pergunta: Qual o país que teve maior taxa de mortalidade para casos confirmados?\n",
    "mortalidade.sort_values(by='taxa_mortalidade', ascending=False, inplace=True)\n",
    "mortalidade.head(60)\n",
    "# Verifica-se que os dados da Korea do Norte não fazem sentidos, tem um total de 6 mortes e um total de 1 caso confirmado\n",
    "# Verifica-se também que a maioria dos países que tiveram uma maior taxa de mortalidade são países pobres, com exceção do Peru, México e Equador"
   ]
  },
  {
   "cell_type": "code",
   "execution_count": null,
   "id": "c1816303",
   "metadata": {},
   "outputs": [],
   "source": [
    "# removendo dados de morte = 0 para calcular a trendline\n",
    "mortalidade = mortalidade[mortalidade[\"death\"] > 0]"
   ]
  },
  {
   "cell_type": "code",
   "execution_count": null,
   "id": "76b49d7b",
   "metadata": {},
   "outputs": [],
   "source": [
    "# Pergunta: Qual o país que teve menor taxa de mortalidade para casos confirmados?\n",
    "fig = px.scatter(mortalidade, x=\"confirmed\", y=\"death\", hover_name=\"country\", width=800, height=400, log_x=True, log_y=True,\n",
    "                 trendline=\"ols\", trendline_color_override=\"red\", trendline_scope=\"overall\", trendline_options=dict(log_x=True, log_y=True))\n",
    "fig.show()"
   ]
  },
  {
   "cell_type": "code",
   "execution_count": null,
   "id": "87961d2a",
   "metadata": {},
   "outputs": [],
   "source": [
    "#fazendo copia do dataframe para não alterar o original\n",
    "mortalidade2 = mortalidade.copy()\n",
    "# removendo os países com poucos casos confirmados\n",
    "mortalidade2 = mortalidade2[mortalidade2[\"confirmed\"] > 1000]\n",
    "# removendo os países com poucas mortes\n",
    "mortalidade2 = mortalidade2[mortalidade2[\"death\"] > 100]\n",
    "# plotando mortes por casos confirmados com grafico scatter logaritmico\n",
    "fig = px.scatter(mortalidade2, x=\"confirmed\", y=\"death\", hover_name=\"country\", width=800, height=400, log_x=True, log_y=True, trendline=\"ols\", trendline_color_override=\"red\", trendline_scope=\"overall\", trendline_options=dict(log_x=True, log_y=True))\n",
    "fig.show()"
   ]
  }
 ],
 "metadata": {
  "kernelspec": {
   "display_name": "Python 3 (ipykernel)",
   "language": "python",
   "name": "python3"
  },
  "language_info": {
   "codemirror_mode": {
    "name": "ipython",
    "version": 3
   },
   "file_extension": ".py",
   "mimetype": "text/x-python",
   "name": "python",
   "nbconvert_exporter": "python",
   "pygments_lexer": "ipython3",
   "version": "3.10.10"
  }
 },
 "nbformat": 4,
 "nbformat_minor": 5
}
